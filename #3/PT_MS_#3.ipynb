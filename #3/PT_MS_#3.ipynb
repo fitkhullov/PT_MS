{
 "cells": [
  {
   "cell_type": "markdown",
   "metadata": {},
   "source": [
    "### <b> Task 1"
   ]
  },
  {
   "cell_type": "code",
   "execution_count": 12,
   "metadata": {},
   "outputs": [],
   "source": [
    "def mean(x):\n",
    "    return sum(x)/len(x)\n",
    "        "
   ]
  },
  {
   "cell_type": "code",
   "execution_count": 13,
   "metadata": {},
   "outputs": [],
   "source": [
    "def variance(x, mean):\n",
    "    var = 0\n",
    "    N = len(x)\n",
    "    for el in x:\n",
    "        var += (el - mean)**2\n",
    "    return var/(N-1)"
   ]
  },
  {
   "cell_type": "code",
   "execution_count": 14,
   "metadata": {},
   "outputs": [],
   "source": [
    "salary = [100, 80, 75, 77, 89, 33, 45, 25, 65, 17, 30, 230, 24, 57, 55, 70, 75, 65, 84, 90, 150]"
   ]
  },
  {
   "cell_type": "code",
   "execution_count": 49,
   "metadata": {},
   "outputs": [
    {
     "data": {
      "text/plain": [
       "'Выборочное несмещённое СКО: 47.34795214'"
      ]
     },
     "execution_count": 49,
     "metadata": {},
     "output_type": "execute_result"
    }
   ],
   "source": [
    "f'Выборочное несмещённое СКО: {variance(salary, mean(salary))**0.5:9.8f}'"
   ]
  },
  {
   "cell_type": "markdown",
   "metadata": {},
   "source": [
    "### <b> Task 2"
   ]
  },
  {
   "cell_type": "code",
   "execution_count": null,
   "metadata": {},
   "outputs": [],
   "source": [
    "salary = [100, 80, 75, 77, 89, 33, 45, 25, 65, 17, 30, 230, 24, 57, 55, 70, 75, 65, 84, 90, 150]"
   ]
  },
  {
   "cell_type": "code",
   "execution_count": 37,
   "metadata": {},
   "outputs": [],
   "source": [
    "def create_discrete_table(x):\n",
    "    discrete_table = dict()\n",
    "    N = len(x)\n",
    "    for el in x:\n",
    "        if el in discrete_table.keys():\n",
    "            discrete_table[el][0] += 1\n",
    "            discrete_table[el][1] += 1/N\n",
    "        else:\n",
    "            discrete_table[el] = [1, 1/N]\n",
    "    return discrete_table"
   ]
  },
  {
   "cell_type": "code",
   "execution_count": 38,
   "metadata": {},
   "outputs": [],
   "source": [
    "def find_quantile(discrete_table, quantile):\n",
    "    curr_quantile = 0\n",
    "    for k in discrete_table.keys():\n",
    "        if curr_quantile < quantile:\n",
    "            curr_quantile += discrete_table[k][1]\n",
    "        else:\n",
    "            res = k\n",
    "            break\n",
    "    return res"
   ]
  },
  {
   "cell_type": "code",
   "execution_count": 45,
   "metadata": {},
   "outputs": [],
   "source": [
    "def outlier_count(discrete_table, left_border, right_border):\n",
    "    count = 0\n",
    "    for k in discrete_table.keys():\n",
    "        if left_border < k < right_border:\n",
    "            pass\n",
    "        else:\n",
    "            count += 1\n",
    "    return count\n",
    "            "
   ]
  },
  {
   "cell_type": "code",
   "execution_count": 48,
   "metadata": {},
   "outputs": [
    {
     "name": "stdout",
     "output_type": "stream",
     "text": [
      "Выбросов в выборке: 2\n"
     ]
    }
   ],
   "source": [
    "discrete_table = create_discrete_table(sorted(salary))\n",
    "\n",
    "quantile_25 = find_quantile(discrete_table, 0.25)\n",
    "quantile_75 = find_quantile(discrete_table, 0.75)\n",
    "IQR = quantile_75 - quantile_25\n",
    "\n",
    "left_border = quantile_25 - 1.5*IQR\n",
    "right_border = quantile_75 + 1.5*IQR\n",
    "\n",
    "print(f'Выбросов в выборке: {outlier_count(discrete_table, left_border, right_border)}')"
   ]
  },
  {
   "cell_type": "markdown",
   "metadata": {},
   "source": [
    "### <b> Task 3"
   ]
  },
  {
   "cell_type": "code",
   "execution_count": 58,
   "metadata": {},
   "outputs": [],
   "source": [
    "def full_probability(hypotheses):\n",
    "    prob = 0\n",
    "    for k in hypotheses.keys():\n",
    "        prob += hypotheses[k][0] * hypotheses[k][1]\n",
    "    return prob"
   ]
  },
  {
   "cell_type": "code",
   "execution_count": 59,
   "metadata": {},
   "outputs": [],
   "source": [
    "def posterior_probs(hypotheses, full_proba):\n",
    "    for k in hypotheses.keys():\n",
    "        print(f'Вероятность того, что сдавший сессию с факультета {k}: {hypotheses[k][0]*hypotheses[k][1]/full_proba}')"
   ]
  },
  {
   "cell_type": "code",
   "execution_count": 60,
   "metadata": {},
   "outputs": [],
   "source": [
    "N = 235\n",
    "hypotheses = {\n",
    "              'A': [100/N, 0.6],\n",
    "              'B': [90/N, 0.7],\n",
    "              'C': [45/N, 0.8]\n",
    "             }"
   ]
  },
  {
   "cell_type": "code",
   "execution_count": 57,
   "metadata": {},
   "outputs": [
    {
     "name": "stdout",
     "output_type": "stream",
     "text": [
      "Вероятность того, что сдавший сессию с факультета A: 0.3773584905660377\n",
      "Вероятность того, что сдавший сессию с факультета B: 0.39622641509433965\n",
      "Вероятность того, что сдавший сессию с факультета C: 0.22641509433962265\n"
     ]
    }
   ],
   "source": [
    "posterior_probs(hypotheses, full_probability(hypotheses))"
   ]
  },
  {
   "cell_type": "markdown",
   "metadata": {},
   "source": [
    "### <b> Ответ\n",
    "* Наиболее вероятно, что этот студент с факультета B"
   ]
  },
  {
   "cell_type": "code",
   "execution_count": null,
   "metadata": {},
   "outputs": [],
   "source": []
  }
 ],
 "metadata": {
  "kernelspec": {
   "display_name": "Python 3",
   "language": "python",
   "name": "python3"
  },
  "language_info": {
   "codemirror_mode": {
    "name": "ipython",
    "version": 3
   },
   "file_extension": ".py",
   "mimetype": "text/x-python",
   "name": "python",
   "nbconvert_exporter": "python",
   "pygments_lexer": "ipython3",
   "version": "3.8.5"
  }
 },
 "nbformat": 4,
 "nbformat_minor": 4
}
