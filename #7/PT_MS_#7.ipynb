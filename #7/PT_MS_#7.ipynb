{
 "cells": [
  {
   "cell_type": "markdown",
   "metadata": {},
   "source": [
    "### <b> Task 1"
   ]
  },
  {
   "cell_type": "code",
   "execution_count": 5,
   "metadata": {},
   "outputs": [],
   "source": [
    "import numpy as np\n",
    "from sklearn.linear_model import LinearRegression"
   ]
  },
  {
   "cell_type": "code",
   "execution_count": 31,
   "metadata": {},
   "outputs": [],
   "source": [
    "X = np.array([[ 1.22401313,  2.30868478,  3.03636353,  2.69287214],\n",
    "             [-0.18757272,  1.30337355,  5.12093014,  3.46363202],\n",
    "             [-0.81094525,  1.82463398,  5.79686488,  1.86159445],\n",
    "             [ 0.75129018,  2.67392052,  3.65529809,  1.66746094],\n",
    "             [ 0.00972362,  1.97367255,  2.50594319,  1.69755173],\n",
    "             [-0.62972637,  0.77750764,  2.84124027,  4.54410559],\n",
    "             [ 2.29536229,  1.81206697,  1.95026215,  1.51874636],\n",
    "             [ 0.0920418 ,  2.26971361,  7.47708735,  2.61081203],\n",
    "             [ 2.39252799,  3.17563985,  3.61420599,  5.10773362],\n",
    "             [ 0.54983815,  2.87988651,  1.65752765,  1.59635987]])\n",
    "\n",
    "y = np.array([ 9.26193358,  9.700363  ,  8.67214805,  8.74796974,  6.18689108,\n",
    "      7.53312713,  7.57643777, 12.44965478, 14.29010746,  6.68361218])\n"
   ]
  },
  {
   "cell_type": "code",
   "execution_count": 47,
   "metadata": {},
   "outputs": [
    {
     "name": "stdout",
     "output_type": "stream",
     "text": [
      "Коэффициент детерминации: 0.18113595, при выборе (1, 2) столбцов\n",
      "Коэффициент детерминации: 0.76342462, при выборе (1, 3) столбцов\n",
      "Коэффициент детерминации: 0.45329668, при выборе (1, 4) столбцов\n",
      "Коэффициент детерминации: 0.54794827, при выборе (2, 3) столбцов\n",
      "Коэффициент детерминации: 0.60620558, при выборе (2, 4) столбцов\n",
      "Коэффициент детерминации: 0.62244199, при выборе (3, 4) столбцов\n"
     ]
    }
   ],
   "source": [
    "combinations = [[0,1], [0,2], [0,3],\n",
    "                [1,2], [1, 3],\n",
    "                [2,3]]\n",
    "\n",
    "for i, el in enumerate(combinations):\n",
    "    x0 = np.ones((X.shape[0], 1))\n",
    "    x1 = X[:, el[0]].reshape(-1, 1)\n",
    "    x2 = X[:, el[1]].reshape(-1, 1)\n",
    "    X_test = np.hstack((x0,x1,x2))\n",
    "    lr = LinearRegression(fit_intercept = False).fit(X_test, y)\n",
    "    y_approx = lr.predict(X_test)\n",
    "    residuals = y - y_approx\n",
    "    SS_res = sum_of_squares(residuals)\n",
    "    SS_y = sum_of_squares(y)\n",
    "    print(f'Коэффициент детерминации: {round(1 - np.var(residuals, ddof =1)/np.var(y, ddof = 1), 8)}, при выборе {(el[0]+1, el[1] +1)} столбцов')\n",
    "    \n",
    "    "
   ]
  },
  {
   "cell_type": "markdown",
   "metadata": {},
   "source": [
    "* Ответ: 0.76342462"
   ]
  },
  {
   "cell_type": "markdown",
   "metadata": {},
   "source": [
    "### <b> Task 2"
   ]
  },
  {
   "cell_type": "code",
   "execution_count": 48,
   "metadata": {},
   "outputs": [],
   "source": [
    "from scipy import stats"
   ]
  },
  {
   "cell_type": "code",
   "execution_count": 53,
   "metadata": {},
   "outputs": [
    {
     "name": "stdout",
     "output_type": "stream",
     "text": [
      "1\n"
     ]
    }
   ],
   "source": [
    "R = 0.76342462\n",
    "n = X_test.shape[0]\n",
    "m = X_test.shape[1] - 1\n",
    "\n",
    "k1 = m\n",
    "k2 = n - m - 1\n",
    "F = (R/m) / ((1-R) / k2)\n",
    "\n",
    "alpha = 0.05\n",
    "t = stats.f.ppf(1-alpha, k1, k2)\n",
    "\n",
    "if F < t:\n",
    "    print(0)\n",
    "else:\n",
    "    print(1)"
   ]
  },
  {
   "cell_type": "markdown",
   "metadata": {},
   "source": [
    "### <b> Task 3"
   ]
  },
  {
   "cell_type": "code",
   "execution_count": 56,
   "metadata": {},
   "outputs": [],
   "source": [
    "def init_x(n, n_success):\n",
    "    x_s = np.ones(n_success)\n",
    "    x_l = np.zeros(n - n_success)\n",
    "    return np.hstack((x_s, x_l))"
   ]
  },
  {
   "cell_type": "code",
   "execution_count": 66,
   "metadata": {},
   "outputs": [
    {
     "name": "stdout",
     "output_type": "stream",
     "text": [
      "0\n"
     ]
    }
   ],
   "source": [
    "alpha = 0.05\n",
    "x1 = init_x(2509, 77)\n",
    "x2 = init_x(1465, 60)\n",
    "pvalue = stats.ttest_ind(x1, x2, equal_var = False)[1]\n",
    "if pvalue >= alpha:\n",
    "    print(0)\n",
    "else:\n",
    "    print(1)"
   ]
  },
  {
   "cell_type": "code",
   "execution_count": 64,
   "metadata": {},
   "outputs": [
    {
     "data": {
      "text/plain": [
       "0.09896479217925898"
      ]
     },
     "execution_count": 64,
     "metadata": {},
     "output_type": "execute_result"
    }
   ],
   "source": [
    "res[1]"
   ]
  },
  {
   "cell_type": "code",
   "execution_count": null,
   "metadata": {},
   "outputs": [],
   "source": []
  }
 ],
 "metadata": {
  "kernelspec": {
   "display_name": "Python 3",
   "language": "python",
   "name": "python3"
  },
  "language_info": {
   "codemirror_mode": {
    "name": "ipython",
    "version": 3
   },
   "file_extension": ".py",
   "mimetype": "text/x-python",
   "name": "python",
   "nbconvert_exporter": "python",
   "pygments_lexer": "ipython3",
   "version": "3.8.5"
  }
 },
 "nbformat": 4,
 "nbformat_minor": 4
}
