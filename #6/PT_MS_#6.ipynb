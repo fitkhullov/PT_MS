{
 "cells": [
  {
   "cell_type": "markdown",
   "metadata": {},
   "source": [
    "### <b> Task 1"
   ]
  },
  {
   "cell_type": "code",
   "execution_count": 1,
   "metadata": {},
   "outputs": [],
   "source": [
    "import numpy as np\n",
    "import pandas as pd"
   ]
  },
  {
   "cell_type": "code",
   "execution_count": 15,
   "metadata": {},
   "outputs": [],
   "source": [
    "def cov(x, y):\n",
    "    MX, MY = x.mean(), y.mean()\n",
    "    cov = 0\n",
    "    for i in range(x.shape[0]):\n",
    "        cov += (x[i] - MX) * (y[i] - MY)\n",
    "    return cov/(x.shape[0] - 1)\n"
   ]
  },
  {
   "cell_type": "code",
   "execution_count": 16,
   "metadata": {},
   "outputs": [],
   "source": [
    "zp = np.array([35, 45, 190, 200, 40, 70, 54, 150, 120, 110])\n",
    "ks = np.array([401, 574, 874, 919, 459, 739, 653, 902, 746, 832])"
   ]
  },
  {
   "cell_type": "code",
   "execution_count": 19,
   "metadata": {},
   "outputs": [
    {
     "name": "stdout",
     "output_type": "stream",
     "text": [
      "Значение ковариации, вычисленное с помощью эл-х действий: 10175.37777778\n",
      "Значение ковариации, вычисленное с помощью функии numpy:  10175.37777778\n"
     ]
    }
   ],
   "source": [
    "print(f'Значение ковариации, вычисленное с помощью эл-х действий: {round(cov(zp, ks), 8)}')\n",
    "print(f'Значение ковариации, вычисленное с помощью функии numpy:  {round(np.cov(zp, ks)[1, 0], 8)}')"
   ]
  },
  {
   "cell_type": "code",
   "execution_count": 49,
   "metadata": {},
   "outputs": [],
   "source": [
    "X = pd.DataFrame({'zp': zp, 'ks': ks})"
   ]
  },
  {
   "cell_type": "code",
   "execution_count": 52,
   "metadata": {},
   "outputs": [],
   "source": [
    "pirs_corr = cov(zp, ks) / (zp.std(ddof = 1) * ks.std(ddof = 1))\n",
    "pirs_corr_numpy = np.corrcoef(zp, ks)[1][0]\n",
    "pirs_corr_pd = X[['zp' , 'ks']].corr()"
   ]
  },
  {
   "cell_type": "code",
   "execution_count": 62,
   "metadata": {},
   "outputs": [
    {
     "name": "stdout",
     "output_type": "stream",
     "text": [
      "Корреляция Пирсона, вычисленная с помощью эл-х действий: 0.88749\n",
      "Корреляция Пирсона, вычисленная с помощью numpy: 0.88749\n",
      "Корреляция Пирсона, вычисленная с помощью pandas: 0.88749\n"
     ]
    }
   ],
   "source": [
    "print(f'Корреляция Пирсона, вычисленная с помощью эл-х действий: {round(pirs_corr, 5)}')\n",
    "print(f'Корреляция Пирсона, вычисленная с помощью numpy: {round(pirs_corr_numpy, 5)}')\n",
    "print(f'Корреляция Пирсона, вычисленная с помощью pandas: {round(pirs_corr_pd.iloc[1, 0], 5)}')"
   ]
  },
  {
   "cell_type": "markdown",
   "metadata": {},
   "source": [
    "### <b> Task 2"
   ]
  },
  {
   "cell_type": "code",
   "execution_count": 64,
   "metadata": {},
   "outputs": [],
   "source": [
    "from scipy import stats"
   ]
  },
  {
   "cell_type": "code",
   "execution_count": 74,
   "metadata": {},
   "outputs": [],
   "source": [
    "def conf_int_wout_sigma(gamma, x):\n",
    "    alpha = 1 - gamma\n",
    "    mean = x.mean()\n",
    "    std = x.std(ddof = 1)\n",
    "    n = x.shape[0]\n",
    "    \n",
    "    t1 = stats.t.ppf(alpha/2, df = n - 1)\n",
    "    t2 = stats.t.ppf(1 - alpha/2, df = n - 1)\n",
    "    \n",
    "    left_pocket = mean + t1 * std / np.sqrt(n)\n",
    "    right_pocket = mean + t2 * std / np.sqrt(n)\n",
    "    \n",
    "    return [left_pocket, right_pocket]"
   ]
  },
  {
   "cell_type": "code",
   "execution_count": 75,
   "metadata": {},
   "outputs": [],
   "source": [
    "x = np.array([131, 125, 115, 122, 131, 115, 107, 99, 125, 111])\n",
    "gamma = 0.95"
   ]
  },
  {
   "cell_type": "code",
   "execution_count": 77,
   "metadata": {},
   "outputs": [
    {
     "name": "stdout",
     "output_type": "stream",
     "text": [
      "Левая граница дов-го интервала: 110.55608365158724\n",
      "Правая граница дов-го интервала: 125.64391634841274\n"
     ]
    }
   ],
   "source": [
    "interval = conf_int_wout_sigma(gamma, x)\n",
    "print(f'Левая граница дов-го интервала: {interval[0]}')\n",
    "print(f'Правая граница дов-го интервала: {interval[1]}')"
   ]
  },
  {
   "cell_type": "markdown",
   "metadata": {},
   "source": [
    "### <b> Task 3"
   ]
  },
  {
   "cell_type": "code",
   "execution_count": 78,
   "metadata": {},
   "outputs": [],
   "source": [
    "def conf_int_w_sigma(sigma, gamma, x_mean, n):    \n",
    "    alpha = 1 - gamma\n",
    "    t1, t2 = stats.norm.ppf(alpha/2), stats.norm.ppf(1-alpha/2)\n",
    "    left_pocket = x_mean + t1 * sigma/np.sqrt(n)\n",
    "    right_pocket = x_mean + t2 * sigma/np.sqrt(n)\n",
    "    return [left_pocket, right_pocket]\n"
   ]
  },
  {
   "cell_type": "code",
   "execution_count": 82,
   "metadata": {},
   "outputs": [
    {
     "name": "stdout",
     "output_type": "stream",
     "text": [
      "Левая граница дов-го интервала: 172.3140237765397\n",
      "Правая граница дов-го интервала: 176.08597622346028\n"
     ]
    }
   ],
   "source": [
    "var = 25\n",
    "sigma = np.sqrt(var)\n",
    "n = 27\n",
    "mean = 174.2\n",
    "gamma = 0.95\n",
    "\n",
    "interval = conf_int_w_sigma(sigma, gamma, mean, n)\n",
    "\n",
    "print(f'Левая граница дов-го интервала: {interval[0]}')\n",
    "print(f'Правая граница дов-го интервала: {interval[1]}')"
   ]
  },
  {
   "cell_type": "code",
   "execution_count": null,
   "metadata": {},
   "outputs": [],
   "source": []
  }
 ],
 "metadata": {
  "kernelspec": {
   "display_name": "Python 3",
   "language": "python",
   "name": "python3"
  },
  "language_info": {
   "codemirror_mode": {
    "name": "ipython",
    "version": 3
   },
   "file_extension": ".py",
   "mimetype": "text/x-python",
   "name": "python",
   "nbconvert_exporter": "python",
   "pygments_lexer": "ipython3",
   "version": "3.8.5"
  }
 },
 "nbformat": 4,
 "nbformat_minor": 4
}
