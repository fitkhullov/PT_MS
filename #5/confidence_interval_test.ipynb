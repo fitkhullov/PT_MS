{
 "cells": [
  {
   "cell_type": "markdown",
   "metadata": {},
   "source": [
    "### <b> Task 1"
   ]
  },
  {
   "cell_type": "code",
   "execution_count": 13,
   "metadata": {},
   "outputs": [],
   "source": [
    "import numpy as np\n",
    "from scipy import stats"
   ]
  },
  {
   "cell_type": "code",
   "execution_count": 25,
   "metadata": {},
   "outputs": [],
   "source": [
    "def conf_int_w_sigma(sigma, gamma, x_mean, n):    \n",
    "    alpha = 1 - gamma\n",
    "    t1, t2 = stats.norm.ppf(alpha/2), stats.norm.ppf(1-alpha/2)\n",
    "    left_pocket = x_mean + t1 * sigma/np.sqrt(n)\n",
    "    right_pocket = x_mean + t2 * sigma/np.sqrt(n)\n",
    "    return [left_pocket, right_pocket]\n",
    "    "
   ]
  },
  {
   "cell_type": "code",
   "execution_count": 30,
   "metadata": {},
   "outputs": [
    {
     "name": "stdout",
     "output_type": "stream",
     "text": [
      "Длина доверительного интервала интервала: 3.91992797\n"
     ]
    }
   ],
   "source": [
    "sigma = 16\n",
    "gamma = 0.95\n",
    "alpha = 1 - gamma\n",
    "x_mean = 80\n",
    "n = 256\n",
    "interval = conf_int_w_sigma(sigma, gamma, x_mean, n)\n",
    "print(f'Длина доверительного интервала интервала: {round(interval[1] - interval[0], 8)}')"
   ]
  },
  {
   "cell_type": "markdown",
   "metadata": {},
   "source": [
    "### <b> Task 2"
   ]
  },
  {
   "cell_type": "code",
   "execution_count": 43,
   "metadata": {},
   "outputs": [],
   "source": [
    "def statistic_without_std(samples, true_mean):\n",
    "    return (samples.mean() - true_mean) * np.sqrt(samples.shape[0]) / samples.std(ddof = 1)"
   ]
  },
  {
   "cell_type": "code",
   "execution_count": 46,
   "metadata": {},
   "outputs": [],
   "source": [
    "def statistic_with_std(samples, true_mean, std):\n",
    "    return (samples.mean() - true_mean) * np.sqrt(samples.shape[0]) / std"
   ]
  },
  {
   "cell_type": "code",
   "execution_count": 66,
   "metadata": {},
   "outputs": [],
   "source": [
    "def mean_value_test(samples, true_mean, alpha, std = None):\n",
    "    n = samples.shape[0]\n",
    "    if std is None:\n",
    "        stat = statistic_without_std(samples, true_mean)\n",
    "        t1 = stats.t.ppf(alpha / 2, df= n - 1)\n",
    "        t2 = stats.t.ppf(1 - alpha / 2, df= n - 1)\n",
    "    else:\n",
    "        stat = statistic_with_std(samples, true_mean, std)\n",
    "        t1 = stats.norm.ppf(alpha / 2)\n",
    "        t2 = stats.norm.ppf(1 - alpha / 2)\n",
    "    return True if t1 < stat < t2 else False"
   ]
  },
  {
   "cell_type": "code",
   "execution_count": 82,
   "metadata": {},
   "outputs": [
    {
     "name": "stdout",
     "output_type": "stream",
     "text": [
      "Нулевая гипотеза принимается\n"
     ]
    }
   ],
   "source": [
    "samples = np.array([202, 203, 199, 197, 195, 201, 200, 204, 194, 190])\n",
    "n = samples.shape[0]\n",
    "true_mean = 200\n",
    "alpha = 0.01\n",
    "if mean_value_test(samples, true_mean, alpha):\n",
    "    print('Нулевая гипотеза принимается')\n",
    "else:\n",
    "    print('Нулевая гипотеза отвергается')\n"
   ]
  },
  {
   "cell_type": "code",
   "execution_count": 83,
   "metadata": {},
   "outputs": [
    {
     "data": {
      "text/plain": [
       "0.3145666"
      ]
     },
     "execution_count": 83,
     "metadata": {},
     "output_type": "execute_result"
    }
   ],
   "source": [
    "S = statistic_without_std(samples, true_mean)\n",
    "p_left = stats.t.cdf(S, df= n - 1)\n",
    "p_right = 1 - stats.t.cdf(S, df= n - 1)\n",
    "p_value = 2*min(p_left, p_right)\n",
    "round(p_value, 8)"
   ]
  },
  {
   "cell_type": "markdown",
   "metadata": {},
   "source": [
    "### <b> Task 3"
   ]
  },
  {
   "cell_type": "code",
   "execution_count": 93,
   "metadata": {},
   "outputs": [
    {
     "name": "stdout",
     "output_type": "stream",
     "text": [
      "1\n"
     ]
    }
   ],
   "source": [
    "samples = np.array([0.6603, 0.9466, 0.5968, 1.3792, 1.5481, 0.7515, 1.0681, 1.1134,\n",
    "           1.2088, 1.701 , 1.0282, 1.3579, 1.0191, 1.1784, 1.1168, 1.1372,\n",
    "           0.7273, 1.3958, 0.8665, 1.5112, 1.161 , 1.0232, 1.0865, 1.02  ])\n",
    "true_var = 0.0625\n",
    "alpha = 0.05\n",
    "n = samples.shape[0]\n",
    "S = (n-1) * samples.var(ddof = 1) / true_var\n",
    "t1 = stats.chi2.ppf(alpha/2, df = n-1)\n",
    "t2 = stats.chi2.ppf(1 - alpha/2, df = n-1)\n",
    "if t1 < S < t2:\n",
    "    print(1)\n",
    "else:\n",
    "    print(0)\n"
   ]
  }
 ],
 "metadata": {
  "kernelspec": {
   "display_name": "Python 3",
   "language": "python",
   "name": "python3"
  },
  "language_info": {
   "codemirror_mode": {
    "name": "ipython",
    "version": 3
   },
   "file_extension": ".py",
   "mimetype": "text/x-python",
   "name": "python",
   "nbconvert_exporter": "python",
   "pygments_lexer": "ipython3",
   "version": "3.8.5"
  }
 },
 "nbformat": 4,
 "nbformat_minor": 4
}
